{
 "cells": [
  {
   "cell_type": "markdown",
   "metadata": {},
   "source": [
    "## Random Node Edge\n",
    "### Usage\n",
    "Looks for the data file in the project subdirectory `Data` which needs to be unzipped.\n",
    "\n",
    "```\n",
    "Project\n",
    "├── Data\n",
    "│   ├── *unzip datafile here*\n",
    "│   └── web-Stanford.txt.zip\n",
    "├── Sampling Code\n",
    "│   └── this file  \n",
    "└── Samples\n",
    "    └── results\n",
    "```\n",
    "\n",
    "Sample size is set as one of: `{5%, 10%, 15%, 20%}`. 5 samples are created as separate .csv files then (manually) moved to the `Samples` folder."
   ]
  },
  {
   "cell_type": "code",
   "execution_count": 1,
   "metadata": {},
   "outputs": [],
   "source": [
    "import pandas as pd\n",
    "import numpy as np\n",
    "import random"
   ]
  },
  {
   "cell_type": "code",
   "execution_count": 3,
   "metadata": {},
   "outputs": [],
   "source": [
    "data = pd.read_csv(\"../Data/web-Stanford.txt\", sep=\"\\t\")"
   ]
  },
  {
   "cell_type": "code",
   "execution_count": 4,
   "metadata": {},
   "outputs": [],
   "source": [
    "list_of_nodes = np.unique(np.array(data[\"FromNode\"])) #gets the unique list of nodes\n",
    "sample_size = .05*len(list_of_nodes) #so we get to hold 10% of the nodes it looks like"
   ]
  },
  {
   "cell_type": "code",
   "execution_count": 5,
   "metadata": {},
   "outputs": [],
   "source": [
    "#Actual run of random node random edge\n",
    "def randomNodeEdge():\n",
    "    nodes_seen = set() #will keep track of the nodes that we've seen\n",
    "    edges = set() #will keep track of the edges that we have\n",
    "    while(len(nodes_seen) <= sample_size):\n",
    "        from_node = np.random.choice(list_of_nodes)\n",
    "        toNode = int(data[data.FromNode == from_node].sample()[\"ToNode\"])\n",
    "        edges.add((from_node, toNode))\n",
    "        nodes_seen.add(from_node)\n",
    "        nodes_seen.add(toNode)\n",
    "    return edges"
   ]
  },
  {
   "cell_type": "code",
   "execution_count": 6,
   "metadata": {},
   "outputs": [],
   "source": [
    "for i in range(1,6):\n",
    "    e = randomNodeEdge()\n",
    "    edgeHolder = pd.DataFrame(columns = [\"FromNode\", \"ToNode\"])\n",
    "    for link in e:\n",
    "        line = pd.DataFrame({\"FromNode\" : [link[0]], \"ToNode\" : [link[1]]})\n",
    "        edgeHolder = pd.concat([edgeHolder, line], ignore_index = True)\n",
    "    outputname = \"OutputRNE{}%{}.csv\".format(str(int(sample_size*100)), str(i))\n",
    "    edgeHolder.to_csv(outputname, index = False)"
   ]
  },
  {
   "cell_type": "code",
   "execution_count": 7,
   "metadata": {},
   "outputs": [],
   "source": [
    "# Single run example\n",
    "\n",
    "edgeHolder = pd.DataFrame(columns = [\"FromNode\", \"ToNode\"])\n",
    "for link in e:\n",
    "    line = pd.DataFrame({\"FromNode\" : [link[0]], \"ToNode\" : [link[1]]})\n",
    "    edgeHolder = pd.concat([edgeHolder, line], ignore_index = True)\n",
    "    \n",
    "edgeHolder.to_csv(\"RandomNodeEdge.csv\")"
   ]
  }
 ],
 "metadata": {
  "kernelspec": {
   "display_name": "Python 3",
   "language": "python",
   "name": "python3"
  },
  "language_info": {
   "codemirror_mode": {
    "name": "ipython",
    "version": 3
   },
   "file_extension": ".py",
   "mimetype": "text/x-python",
   "name": "python",
   "nbconvert_exporter": "python",
   "pygments_lexer": "ipython3",
   "version": "3.8.5"
  }
 },
 "nbformat": 4,
 "nbformat_minor": 4
}
