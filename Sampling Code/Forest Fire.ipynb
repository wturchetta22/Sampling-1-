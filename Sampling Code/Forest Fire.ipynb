{
 "cells": [
  {
   "cell_type": "markdown",
   "metadata": {},
   "source": [
    "## Forest Fire\n",
    "\n",
    "### Usage\n",
    "Looks for the data file in the project subdirectory `Data` which needs to be unzipped.\n",
    "\n",
    "```\n",
    "Project\n",
    "├── Data\n",
    "│   ├── *unzip datafile here*\n",
    "│   └── web-Stanford.txt.zip\n",
    "├── Sampling Code\n",
    "│   └── this file  \n",
    "└── Samples\n",
    "    └── results\n",
    "```\n",
    "\n",
    "Sample size is set as one of: `{5%, 10%, 15%, 20%}`. 5 samples are created as separate .csv files then (manually) moved to the `Samples` folder.\n",
    "\n",
    "### Concept\n",
    "1. Choose a node v at random\n",
    "2. Generate a random number x that is geometrically distributed with mean pf/(1-pf)\n",
    "3. Node v chooses x outlinks that were not yet visited (make sure we haven't gone over our sample percentage)\n",
    "4. Go to those x outlinks and generate a new random x with same mean - note nodes cannot be visited a second time (so just don't include it if we hit that node)\n",
    "5. If we have more samples to take just start over with a new node and do the same thing\n",
    "\n",
    "Note to keep in mind this is a BFS algorithm - so the \"to nodes\" should be equal to the sample size percentage * unique nodes in the graph\n",
    "\n",
    "Note2, we use `pf = .7` because according to this paper: [Rank degree: An efficient algorithm for graph sampling](https://www.researchgate.net/publication/310809556_Rank_degree_An_efficient_algorithm_for_graph_sampling) it gives the most representative sample\n"
   ]
  },
  {
   "cell_type": "markdown",
   "metadata": {},
   "source": [
    "In order to run: just change the data what you want to be (must have headers: \"FromNode\" and \"ToNode\") and change sample size"
   ]
  },
  {
   "cell_type": "code",
   "execution_count": 1,
   "metadata": {},
   "outputs": [],
   "source": [
    "import numpy as np\n",
    "import pandas as pd\n",
    "import random"
   ]
  },
  {
   "cell_type": "code",
   "execution_count": 2,
   "metadata": {},
   "outputs": [],
   "source": [
    "data = pd.read_csv(\"../Data/web-Stanford.txt\", sep=\"\\t\")"
   ]
  },
  {
   "cell_type": "code",
   "execution_count": 3,
   "metadata": {},
   "outputs": [],
   "source": [
    "list_of_nodes = np.unique(np.array(data[\"FromNode\"])) #gets the unique list of nodes\n",
    "sample_size = .05*len(list_of_nodes) #so we get to hold 10% of the nodes it looks like\n",
    "pf = .7*(1-.7) #this is going to be the number of nodes we select"
   ]
  },
  {
   "cell_type": "code",
   "execution_count": 4,
   "metadata": {},
   "outputs": [],
   "source": [
    "def run_forest_fire4():\n",
    "    nodes_seen = set()\n",
    "    edges = set()\n",
    "    global queue;\n",
    "    queue = []\n",
    "    while(len(nodes_seen) < sample_size):\n",
    "        if(len(queue) == 0):\n",
    "            cur_node = np.random.choice(list_of_nodes)\n",
    "            queue.append(cur_node)\n",
    "            nodes_seen.add(cur_node)\n",
    "        def forest_fire5(node):\n",
    "            if(len(nodes_seen) >= sample_size):\n",
    "                return;\n",
    "            else: #get a geometric random number\n",
    "                outlinks_allowed = np.random.geometric(pf)\n",
    "                candidates = list(data[data[\"FromNode\"] == node][\"ToNode\"])\n",
    "                if(outlinks_allowed <= len(candidates)):\n",
    "                    candidates = random.sample(candidates, outlinks_allowed)\n",
    "                for outlink in candidates:\n",
    "                    if(outlink in nodes_seen):\n",
    "                        edges.add((node, outlink))\n",
    "                    else:\n",
    "                        if(len(nodes_seen) < sample_size):\n",
    "                            nodes_seen.add(outlink)\n",
    "                            edges.add((node, outlink))\n",
    "                            queue.append(outlink)\n",
    "            queue.pop(0);     \n",
    "        forest_fire5(queue[0])\n",
    "    return edges"
   ]
  },
  {
   "cell_type": "code",
   "execution_count": 27,
   "metadata": {},
   "outputs": [],
   "source": [
    "for i in range(1,6):\n",
    "    e = run_forest_fire4()\n",
    "    edgeHolder = pd.DataFrame(columns = [\"FromNode\", \"ToNode\"])\n",
    "    for link in e:\n",
    "        line = pd.DataFrame({\"FromNode\" : [link[0]], \"ToNode\" : [link[1]]})\n",
    "        edgeHolder = pd.concat([edgeHolder, line], ignore_index = True)\n",
    "    outputname = \"OutputFF{}%{}.csv\".format(str(int(sample_size*100)), str(i))\n",
    "    edgeHolder.to_csv(outputname, index = False)"
   ]
  },
  {
   "cell_type": "code",
   "execution_count": 5,
   "metadata": {},
   "outputs": [],
   "source": [
    "# Single run example\n",
    "\n",
    "e = run_forest_fire4()\n",
    "\n",
    "edgeHolder = pd.DataFrame(columns = [\"FromNode\", \"ToNode\"])\n",
    "for link in e:\n",
    "    line = pd.DataFrame({\"FromNode\" : [link[0]], \"ToNode\" : [link[1]]})\n",
    "    edgeHolder = pd.concat([edgeHolder, line], ignore_index = True)\n",
    "\n",
    "edgeHolder.to_csv(\"ForestFireOutput.csv\")"
   ]
  },
  {
   "cell_type": "code",
   "execution_count": 6,
   "metadata": {},
   "outputs": [
    {
     "data": {
      "text/html": [
       "<div>\n",
       "<style scoped>\n",
       "    .dataframe tbody tr th:only-of-type {\n",
       "        vertical-align: middle;\n",
       "    }\n",
       "\n",
       "    .dataframe tbody tr th {\n",
       "        vertical-align: top;\n",
       "    }\n",
       "\n",
       "    .dataframe thead th {\n",
       "        text-align: right;\n",
       "    }\n",
       "</style>\n",
       "<table border=\"1\" class=\"dataframe\">\n",
       "  <thead>\n",
       "    <tr style=\"text-align: right;\">\n",
       "      <th></th>\n",
       "      <th>FromNode</th>\n",
       "      <th>ToNode</th>\n",
       "    </tr>\n",
       "  </thead>\n",
       "  <tbody>\n",
       "    <tr>\n",
       "      <th>0</th>\n",
       "      <td>180568</td>\n",
       "      <td>126067</td>\n",
       "    </tr>\n",
       "    <tr>\n",
       "      <th>1</th>\n",
       "      <td>247576</td>\n",
       "      <td>156983</td>\n",
       "    </tr>\n",
       "    <tr>\n",
       "      <th>2</th>\n",
       "      <td>49152</td>\n",
       "      <td>160833</td>\n",
       "    </tr>\n",
       "    <tr>\n",
       "      <th>3</th>\n",
       "      <td>45630</td>\n",
       "      <td>162664</td>\n",
       "    </tr>\n",
       "    <tr>\n",
       "      <th>4</th>\n",
       "      <td>99433</td>\n",
       "      <td>142871</td>\n",
       "    </tr>\n",
       "    <tr>\n",
       "      <th>...</th>\n",
       "      <td>...</td>\n",
       "      <td>...</td>\n",
       "    </tr>\n",
       "    <tr>\n",
       "      <th>44542</th>\n",
       "      <td>3374</td>\n",
       "      <td>167818</td>\n",
       "    </tr>\n",
       "    <tr>\n",
       "      <th>44543</th>\n",
       "      <td>89777</td>\n",
       "      <td>259455</td>\n",
       "    </tr>\n",
       "    <tr>\n",
       "      <th>44544</th>\n",
       "      <td>264542</td>\n",
       "      <td>81583</td>\n",
       "    </tr>\n",
       "    <tr>\n",
       "      <th>44545</th>\n",
       "      <td>5791</td>\n",
       "      <td>204925</td>\n",
       "    </tr>\n",
       "    <tr>\n",
       "      <th>44546</th>\n",
       "      <td>242565</td>\n",
       "      <td>227183</td>\n",
       "    </tr>\n",
       "  </tbody>\n",
       "</table>\n",
       "<p>44547 rows × 2 columns</p>\n",
       "</div>"
      ],
      "text/plain": [
       "      FromNode  ToNode\n",
       "0       180568  126067\n",
       "1       247576  156983\n",
       "2        49152  160833\n",
       "3        45630  162664\n",
       "4        99433  142871\n",
       "...        ...     ...\n",
       "44542     3374  167818\n",
       "44543    89777  259455\n",
       "44544   264542   81583\n",
       "44545     5791  204925\n",
       "44546   242565  227183\n",
       "\n",
       "[44547 rows x 2 columns]"
      ]
     },
     "execution_count": 6,
     "metadata": {},
     "output_type": "execute_result"
    }
   ],
   "source": [
    "edgeHolder"
   ]
  }
 ],
 "metadata": {
  "kernelspec": {
   "display_name": "Python 3",
   "language": "python",
   "name": "python3"
  },
  "language_info": {
   "codemirror_mode": {
    "name": "ipython",
    "version": 3
   },
   "file_extension": ".py",
   "mimetype": "text/x-python",
   "name": "python",
   "nbconvert_exporter": "python",
   "pygments_lexer": "ipython3",
   "version": "3.8.5"
  }
 },
 "nbformat": 4,
 "nbformat_minor": 4
}
