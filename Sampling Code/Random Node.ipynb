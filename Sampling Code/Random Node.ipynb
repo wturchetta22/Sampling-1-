{
 "cells": [
  {
   "cell_type": "markdown",
   "metadata": {},
   "source": [
    "## Random Node\n",
    "\n",
    "### Usage\n",
    "Looks for the data file in the project subdirectory `Data` which needs to be unzipped.\n",
    "\n",
    "```\n",
    "Project\n",
    "├── Data\n",
    "│   ├── *unzip datafile here*\n",
    "│   └── web-Stanford.txt.zip\n",
    "├── Sampling Code\n",
    "│   └── this file  \n",
    "└── Samples\n",
    "    └── results\n",
    "```\n",
    "\n",
    "Sample size is set as one of: `{5%, 10%, 15%, 20%}`. 5 samples are created as separate .csv files then (manually) moved to the `Samples` folder."
   ]
  },
  {
   "cell_type": "code",
   "execution_count": 2,
   "metadata": {},
   "outputs": [],
   "source": [
    "import pandas as pd\n",
    "import random"
   ]
  },
  {
   "cell_type": "code",
   "execution_count": 22,
   "metadata": {},
   "outputs": [],
   "source": [
    "data = pd.read_csv(\"../Data/web-Stanford.txt\", sep=\"\\t\")\n",
    "uniqueNodeList = list(data[\"FromNode\"].unique())"
   ]
  },
  {
   "cell_type": "code",
   "execution_count": 4,
   "metadata": {},
   "outputs": [],
   "source": [
    "sample_size = .05 # <<< SET SAMPLE SIZE HERE"
   ]
  },
  {
   "cell_type": "code",
   "execution_count": 20,
   "metadata": {},
   "outputs": [],
   "source": [
    "def randomNodes():\n",
    "    randomNodes = (random.sample(list(data[\"FromNode\"].unique()), k = int(len(uniqueNodeList)*sample_size)))\n",
    "    tor = data[(data[\"FromNode\"].isin(randomNodes)) & (data[\"ToNode\"].isin(randomNodes))]\n",
    "    return tor"
   ]
  },
  {
   "cell_type": "code",
   "execution_count": 23,
   "metadata": {},
   "outputs": [],
   "source": [
    "for i in range(1,6):\n",
    "    toprint = randomNodes()\n",
    "    outputname = \"OutputRN{}%{}.csv\".format(str(int(sample_size*100)), str(i))\n",
    "    toprint.to_csv(outputname, index = False)"
   ]
  }
 ],
 "metadata": {
  "kernelspec": {
   "display_name": "Python 3",
   "language": "python",
   "name": "python3"
  },
  "language_info": {
   "codemirror_mode": {
    "name": "ipython",
    "version": 3
   },
   "file_extension": ".py",
   "mimetype": "text/x-python",
   "name": "python",
   "nbconvert_exporter": "python",
   "pygments_lexer": "ipython3",
   "version": "3.8.5"
  }
 },
 "nbformat": 4,
 "nbformat_minor": 4
}
