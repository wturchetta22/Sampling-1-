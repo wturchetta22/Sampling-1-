{
 "cells": [
  {
   "cell_type": "markdown",
   "metadata": {},
   "source": [
    "## Forest Fire\n",
    "Here's the idea:\n",
    "1. Choose a node v at random\n",
    "2. Generate a random number x that is geometrically distributed with mean pf/(1-pf)\n",
    "- side note use pf = .7 because according to this paper: https://ieeexplore-ieee-org.silk.library.umass.edu/document/7752223 it gives the most representative sample\n",
    "3. Node v chooses x outlinks that were not yet visited (make sure we haven't gone over our sample percentage)\n",
    "4. Go to those x outlinks and generate a new random x with same mean - note nodes cannot be visited a second time (so just don't include it if we hit that node)\n",
    "5. If we have more samples to take just start over with a new node and do the same thing\n",
    "- side note to keep in mind this is a BFS algorithm - so the \"to nodes\" should be equal to the sample size percentage * unique nodes in the graph"
   ]
  },
  {
   "cell_type": "markdown",
   "metadata": {},
   "source": [
    "In order to run: just change the data what you want to be (must have headers: \"FromNode\" and \"ToNode\") and change sample size"
   ]
  },
  {
   "cell_type": "code",
   "execution_count": 11,
   "metadata": {},
   "outputs": [],
   "source": [
    "import numpy as np\n",
    "import pandas as pd\n",
    "import random"
   ]
  },
  {
   "cell_type": "code",
   "execution_count": 16,
   "metadata": {},
   "outputs": [],
   "source": [
    "data = pd.read_csv(\"web-Stanford.txt\", sep=\"\\t\")"
   ]
  },
  {
   "cell_type": "code",
   "execution_count": 25,
   "metadata": {},
   "outputs": [],
   "source": [
    "list_of_nodes = np.unique(np.array(data[\"FromNode\"])) #gets the unique list of nodes\n",
    "sample_size = .05*len(list_of_nodes) #so we get to hold 10% of the nodes it looks like\n",
    "pf = .7*(1-.7) #this is going to be the number of nodes we select"
   ]
  },
  {
   "cell_type": "code",
   "execution_count": 26,
   "metadata": {},
   "outputs": [],
   "source": [
    "def run_forest_fire4():\n",
    "    nodes_seen = set()\n",
    "    edges = set()\n",
    "    global queue;\n",
    "    queue = []\n",
    "    while(len(nodes_seen) < sample_size):\n",
    "        if(len(queue) == 0):\n",
    "            cur_node = np.random.choice(list_of_nodes)\n",
    "            queue.append(cur_node)\n",
    "            nodes_seen.add(cur_node)\n",
    "        def forest_fire5(node):\n",
    "            if(len(nodes_seen) >= sample_size):\n",
    "                return;\n",
    "            else: #get a geometric random number\n",
    "                outlinks_allowed = np.random.geometric(pf)\n",
    "                candidates = list(data[data[\"FromNode\"] == node][\"ToNode\"])\n",
    "                if(outlinks_allowed <= len(candidates)):\n",
    "                    candidates = random.sample(candidates, outlinks_allowed)\n",
    "                for outlink in candidates:\n",
    "                    if(outlink in nodes_seen):\n",
    "                        edges.add((node, outlink))\n",
    "                    else:\n",
    "                        if(len(nodes_seen) < sample_size):\n",
    "                            nodes_seen.add(outlink)\n",
    "                            edges.add((node, outlink))\n",
    "                            queue.append(outlink)\n",
    "            queue.pop(0);     \n",
    "        forest_fire5(queue[0])\n",
    "    return edges"
   ]
  },
  {
   "cell_type": "code",
   "execution_count": 5,
   "metadata": {},
   "outputs": [],
   "source": [
    "e = run_forest_fire4()"
   ]
  },
  {
   "cell_type": "code",
   "execution_count": 27,
   "metadata": {},
   "outputs": [],
   "source": [
    "for i in range(1,6):\n",
    "    e = run_forest_fire4()\n",
    "    edgeHolder = pd.DataFrame(columns = [\"FromNode\", \"ToNode\"])\n",
    "    for link in e:\n",
    "        line = pd.DataFrame({\"FromNode\" : [link[0]], \"ToNode\" : [link[1]]})\n",
    "        edgeHolder = pd.concat([edgeHolder, line], ignore_index = True)\n",
    "    outputname = \"OutputFF5%\" + str(i) + \".csv\"\n",
    "    edgeHolder.to_csv(outputname, index = False)"
   ]
  },
  {
   "cell_type": "code",
   "execution_count": 10,
   "metadata": {},
   "outputs": [],
   "source": [
    "edgeHolder = pd.DataFrame(columns = [\"FromNode\", \"ToNode\"])\n",
    "for link in e:\n",
    "    line = pd.DataFrame({\"FromNode\" : [link[0]], \"ToNode\" : [link[1]]})\n",
    "    edgeHolder = pd.concat([edgeHolder, line], ignore_index = True)"
   ]
  },
  {
   "cell_type": "code",
   "execution_count": 11,
   "metadata": {},
   "outputs": [
    {
     "data": {
      "text/html": [
       "<div>\n",
       "<style scoped>\n",
       "    .dataframe tbody tr th:only-of-type {\n",
       "        vertical-align: middle;\n",
       "    }\n",
       "\n",
       "    .dataframe tbody tr th {\n",
       "        vertical-align: top;\n",
       "    }\n",
       "\n",
       "    .dataframe thead th {\n",
       "        text-align: right;\n",
       "    }\n",
       "</style>\n",
       "<table border=\"1\" class=\"dataframe\">\n",
       "  <thead>\n",
       "    <tr style=\"text-align: right;\">\n",
       "      <th></th>\n",
       "      <th>FromNode</th>\n",
       "      <th>ToNode</th>\n",
       "    </tr>\n",
       "  </thead>\n",
       "  <tbody>\n",
       "    <tr>\n",
       "      <td>0</td>\n",
       "      <td>266286</td>\n",
       "      <td>185099</td>\n",
       "    </tr>\n",
       "    <tr>\n",
       "      <td>1</td>\n",
       "      <td>21016</td>\n",
       "      <td>94163</td>\n",
       "    </tr>\n",
       "    <tr>\n",
       "      <td>2</td>\n",
       "      <td>197199</td>\n",
       "      <td>176790</td>\n",
       "    </tr>\n",
       "    <tr>\n",
       "      <td>3</td>\n",
       "      <td>222999</td>\n",
       "      <td>205477</td>\n",
       "    </tr>\n",
       "    <tr>\n",
       "      <td>4</td>\n",
       "      <td>11336</td>\n",
       "      <td>223724</td>\n",
       "    </tr>\n",
       "    <tr>\n",
       "      <td>...</td>\n",
       "      <td>...</td>\n",
       "      <td>...</td>\n",
       "    </tr>\n",
       "    <tr>\n",
       "      <td>94658</td>\n",
       "      <td>107482</td>\n",
       "      <td>144519</td>\n",
       "    </tr>\n",
       "    <tr>\n",
       "      <td>94659</td>\n",
       "      <td>259213</td>\n",
       "      <td>175444</td>\n",
       "    </tr>\n",
       "    <tr>\n",
       "      <td>94660</td>\n",
       "      <td>251291</td>\n",
       "      <td>183004</td>\n",
       "    </tr>\n",
       "    <tr>\n",
       "      <td>94661</td>\n",
       "      <td>187314</td>\n",
       "      <td>207809</td>\n",
       "    </tr>\n",
       "    <tr>\n",
       "      <td>94662</td>\n",
       "      <td>204212</td>\n",
       "      <td>84912</td>\n",
       "    </tr>\n",
       "  </tbody>\n",
       "</table>\n",
       "<p>94663 rows × 2 columns</p>\n",
       "</div>"
      ],
      "text/plain": [
       "      FromNode  ToNode\n",
       "0       266286  185099\n",
       "1        21016   94163\n",
       "2       197199  176790\n",
       "3       222999  205477\n",
       "4        11336  223724\n",
       "...        ...     ...\n",
       "94658   107482  144519\n",
       "94659   259213  175444\n",
       "94660   251291  183004\n",
       "94661   187314  207809\n",
       "94662   204212   84912\n",
       "\n",
       "[94663 rows x 2 columns]"
      ]
     },
     "execution_count": 11,
     "metadata": {},
     "output_type": "execute_result"
    }
   ],
   "source": [
    "edgeHolder.to_csv(\"ForestFireOutput.csv\")"
   ]
  },
  {
   "cell_type": "markdown",
   "metadata": {},
   "source": [
    "## End Here"
   ]
  },
  {
   "cell_type": "markdown",
   "metadata": {},
   "source": [
    "## Previous Attempts\n",
    "- Here are previous attempts at it in case you want to see my failed attempts:"
   ]
  },
  {
   "cell_type": "code",
   "execution_count": null,
   "metadata": {},
   "outputs": [],
   "source": [
    "def forest_fire(node, nodes_seen):\n",
    "    display(edgeHolder)\n",
    "    print(nodes_seen)\n",
    "    if(len(nodes_seen) >= 5):\n",
    "        return;\n",
    "    else: #get a geometric random number\n",
    "        nodes_seen.add(node)\n",
    "        outlinks_allowed = np.random.geometric(pf)\n",
    "        print(outlinks_allowed)\n",
    "        candidates = list(data[data[\"FromNode\"] == node][\"ToNode\"])\n",
    "        if(outlinks_allowed > len(candidates)):\n",
    "            dummy = [node]*len(candidates)\n",
    "            df2 = pd.DataFrame({\"FromNode\" : dummy, \"ToNode\" : candidates})\n",
    "            edgeHolder = pd.concat([edgeHolder, df2], ignore_index = True)\n",
    "            #display(edgeHolder)\n",
    "        else: #randomly select some nodes and go off of that\n",
    "            candidates = random.sample(candidates, outlinks_allowed)\n",
    "            dummy = [node]*len(candidates)\n",
    "            df2 = pd.DataFrame({\"FromNode\" : dummy, \"ToNode\" : candidates})\n",
    "            edgeHolder = pd.concat([edgeHolder, df2], ignore_index = True)\n",
    "            #display(edgeHolder)\n",
    "        for outlink in candidates:        \n",
    "                if(outlink not in nodes_seen):         \n",
    "                    forest_fire(outlink, edgeHolder, nodes_seen) #shouldn't run til everything"
   ]
  },
  {
   "cell_type": "code",
   "execution_count": null,
   "metadata": {},
   "outputs": [],
   "source": [
    "def run_forest_fire():\n",
    "    nodes_seen = set()\n",
    "    edgeHolder = pd.DataFrame(columns = [\"FromNode\", \"ToNode\"])\n",
    "    while(len(nodes_seen) < 5):\n",
    "        cur_node = np.random.choice(list_of_nodes)\n",
    "        print(cur_node)\n",
    "        forest_fire(cur_node, edgeHolder, nodes_seen)\n",
    "        \n",
    "        display(edgeHolder)\n",
    "        print(nodes_seen)"
   ]
  },
  {
   "cell_type": "code",
   "execution_count": null,
   "metadata": {},
   "outputs": [],
   "source": [
    "def run_forest_fire2():\n",
    "    nodes_seen = set()\n",
    "    edges = set()\n",
    "    queue = []\n",
    "    while(len(nodes_seen) < sample_size):\n",
    "        cur_node = np.random.choice(list_of_nodes)\n",
    "        queue.append(cur_node)\n",
    "        def forest_fire3(node):\n",
    "            if(len(nodes_seen) >= sample_size):\n",
    "                return;\n",
    "            else: #get a geometric random number\n",
    "                nodes_seen.add(node)\n",
    "                outlinks_allowed = np.random.geometric(pf)\n",
    "                candidates = list(data[data[\"FromNode\"] == node][\"ToNode\"])\n",
    "                if(outlinks_allowed <= len(candidates)):\n",
    "                    candidates = random.sample(candidates, outlinks_allowed)\n",
    "                for outlink in candidates:\n",
    "                    edges.add((node, outlink))\n",
    "                    if(outlink not in nodes_seen):         \n",
    "                        forest_fire3(outlink) #shouldn't run til everything\n",
    "        \n",
    "        forest_fire3(queue[0])\n",
    "    return edges"
   ]
  }
 ],
 "metadata": {
  "kernelspec": {
   "display_name": "Python 3",
   "language": "python",
   "name": "python3"
  },
  "language_info": {
   "codemirror_mode": {
    "name": "ipython",
    "version": 3
   },
   "file_extension": ".py",
   "mimetype": "text/x-python",
   "name": "python",
   "nbconvert_exporter": "python",
   "pygments_lexer": "ipython3",
   "version": "3.7.3"
  }
 },
 "nbformat": 4,
 "nbformat_minor": 4
}
