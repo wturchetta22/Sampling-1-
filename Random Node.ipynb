{
 "cells": [
  {
   "cell_type": "markdown",
   "metadata": {},
   "source": [
    "## Random Node\n",
    "Here's the idea\n",
    "1. Get a list of unique nodes\n",
    "2. Filter through the whole dataset and only take edges that both nodes are in\n",
    "- Run Away - obviously can shange sample size & dataset as you wish"
   ]
  },
  {
   "cell_type": "code",
   "execution_count": 47,
   "metadata": {},
   "outputs": [],
   "source": [
    "import pandas as pd\n",
    "import random"
   ]
  },
  {
   "cell_type": "code",
   "execution_count": 61,
   "metadata": {},
   "outputs": [],
   "source": [
    "data = pd.read_csv(\"web-Stanford.txt\", sep=\"\\t\")"
   ]
  },
  {
   "cell_type": "code",
   "execution_count": 62,
   "metadata": {},
   "outputs": [],
   "source": [
    "uniqueNodeList = list(data[\"FromNode\"].unique())\n",
    "sample_size = .05"
   ]
  },
  {
   "cell_type": "code",
   "execution_count": 63,
   "metadata": {},
   "outputs": [],
   "source": [
    "def randomNodes():\n",
    "    randomNodes = (random.sample(list(data[\"FromNode\"].unique()), k = int(len(uniqueNodeList)*sample_size)))\n",
    "    tor = data[(data[\"FromNode\"].isin(randomNodes)) & (data[\"ToNode\"].isin(randomNodes))]\n",
    "    return tor"
   ]
  },
  {
   "cell_type": "code",
   "execution_count": 64,
   "metadata": {},
   "outputs": [],
   "source": [
    "for i in range(1,6):\n",
    "    toprint = randomNodes()\n",
    "    outputname = \"OutputRN5%\" + str(i) + \".csv\"\n",
    "    toprint.to_csv(outputname, index = False)"
   ]
  },
  {
   "cell_type": "markdown",
   "metadata": {},
   "source": [
    "## End's Here"
   ]
  },
  {
   "cell_type": "markdown",
   "metadata": {},
   "source": [
    "## Previous Attemps\n",
    "- Works just a little bit slower"
   ]
  },
  {
   "cell_type": "code",
   "execution_count": 6,
   "metadata": {},
   "outputs": [],
   "source": [
    "res = []\n",
    "for i in randomNodes:\n",
    "    if i not in res:\n",
    "        res.append(i)"
   ]
  },
  {
   "cell_type": "code",
   "execution_count": 7,
   "metadata": {},
   "outputs": [],
   "source": [
    "while len(res) != int(len(uniqueNodeList)*.1):\n",
    "    i = random.choice(list(data[\"FromNode\"].unique()))\n",
    "    if i not in res:\n",
    "        res.append(i)"
   ]
  },
  {
   "cell_type": "code",
   "execution_count": 59,
   "metadata": {},
   "outputs": [],
   "source": [
    "bigDS = pd.DataFrame(columns = [\"FromNode\", \"ToNode\"])"
   ]
  },
  {
   "cell_type": "code",
   "execution_count": 60,
   "metadata": {},
   "outputs": [],
   "source": [
    "for i in res:\n",
    "    toCheck = data[data[\"FromNode\"] == i] #filter dataset based on this edge\n",
    "    toAdd = toCheck[toCheck[\"ToNode\"].isin(res)]\n",
    "    bigDS = pd.concat([bigDS, toAdd])"
   ]
  },
  {
   "cell_type": "code",
   "execution_count": 61,
   "metadata": {},
   "outputs": [
    {
     "name": "stdout",
     "output_type": "stream",
     "text": [
      "        FromNode  ToNode\n",
      "1748761   119003  121796\n",
      "227198     66729   54398\n",
      "227200     66729   87630\n",
      "227207     66729  141601\n",
      "202934    190468  249067\n",
      "...          ...     ...\n",
      "784221     60036  145888\n",
      "2015556   182955   65185\n",
      "1427272    65644    1796\n",
      "1427273    65644   49882\n",
      "1427282    65644  271224\n",
      "\n",
      "[18706 rows x 2 columns]\n"
     ]
    }
   ],
   "source": [
    "print (bigDS)"
   ]
  },
  {
   "cell_type": "code",
   "execution_count": 66,
   "metadata": {},
   "outputs": [],
   "source": [
    "bigDS.to_csv('outputRN.csv', index=False)"
   ]
  },
  {
   "cell_type": "code",
   "execution_count": 20,
   "metadata": {},
   "outputs": [
    {
     "data": {
      "text/plain": [
       "[2, 3, 1]"
      ]
     },
     "execution_count": 20,
     "metadata": {},
     "output_type": "execute_result"
    }
   ],
   "source": [
    "random.sample([1,2,3], k = 3)"
   ]
  },
  {
   "cell_type": "code",
   "execution_count": null,
   "metadata": {},
   "outputs": [],
   "source": []
  }
 ],
 "metadata": {
  "kernelspec": {
   "display_name": "Python 3",
   "language": "python",
   "name": "python3"
  },
  "language_info": {
   "codemirror_mode": {
    "name": "ipython",
    "version": 3
   },
   "file_extension": ".py",
   "mimetype": "text/x-python",
   "name": "python",
   "nbconvert_exporter": "python",
   "pygments_lexer": "ipython3",
   "version": "3.7.3"
  }
 },
 "nbformat": 4,
 "nbformat_minor": 4
}
