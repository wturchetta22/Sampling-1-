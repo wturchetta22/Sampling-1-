{
 "cells": [
  {
   "cell_type": "markdown",
   "metadata": {},
   "source": [
    "## Random Walk\n",
    "Here's the idea:\n",
    "1. Start from a uniformly selected random node\n",
    "2. Pick a random node incident to it and walk to it\n",
    "3. With probability .15 fly back to the original node\n",
    "4. With probability 1-.15 pick a random node incident to said node and walk to it\n",
    "5. If \"stuck\" (seen 10 nodes in a row we've already seen), pick a new random node and start all over again\n",
    "6. Go until we have seen enough random nodes\n",
    "- Note: This takes a minute - minute and a half to run at a 10% sample size with size being 300k"
   ]
  },
  {
   "cell_type": "code",
   "execution_count": 28,
   "metadata": {},
   "outputs": [],
   "source": [
    "import pandas as pd\n",
    "import numpy as np\n",
    "import random"
   ]
  },
  {
   "cell_type": "code",
   "execution_count": 29,
   "metadata": {},
   "outputs": [],
   "source": [
    "data = pd.read_csv(\"web-Stanford.txt\", sep=\"\\t\")"
   ]
  },
  {
   "cell_type": "code",
   "execution_count": 44,
   "metadata": {},
   "outputs": [],
   "source": [
    "list_of_nodes = np.unique(np.array(data[\"FromNode\"])) #gets the unique list of nodes\n",
    "sample_size = .05*len(list_of_nodes) #so we get to hold 10% of the nodes it looks like\n",
    "pf = .85 #this is going to be the number of nodes we select"
   ]
  },
  {
   "cell_type": "code",
   "execution_count": 45,
   "metadata": {},
   "outputs": [],
   "source": [
    "def randomwalk():\n",
    "    edges = set()\n",
    "    cur_node = np.random.choice(list_of_nodes)\n",
    "    starting_node = cur_node\n",
    "    nodes_seen = set()\n",
    "    nodes_seen.add(cur_node)\n",
    "    seeninarow = 0 #number of nodes we seen in a row\n",
    "    while(len(nodes_seen) < sample_size):\n",
    "        #flip a biased coin\n",
    "        if(random.random() < .85):\n",
    "            try: #makes sure the node we're in has an endpoint and if it doesn't go back to the starting node\n",
    "                toNode = int(data[data.FromNode == cur_node].sample()[\"ToNode\"]) #becomes our next node\n",
    "                edges.add((cur_node, toNode))\n",
    "            except:\n",
    "                toNode = int(data[data.FromNode == starting_node].sample()[\"ToNode\"]) #becomes our next node\n",
    "                edges.add((starting_node, toNode))\n",
    "            \n",
    "            if(toNode in nodes_seen):\n",
    "                seeninarow+=1;\n",
    "            else:\n",
    "                nodes_seen.add(toNode);\n",
    "                seeninarow = 0; #we saw a new node!\n",
    "                \n",
    "            cur_node = toNode\n",
    "            if(seeninarow == 10):\n",
    "                starting_node = np.random.choice(list_of_nodes) #will go to a new node now\n",
    "                seeninarow = 0;\n",
    "                cur_node = starting_node\n",
    "        \n",
    "        else:\n",
    "            if(seeninarow == 10):\n",
    "                starting_node = np.random.choice(list_of_nodes) #will go to a new node now\n",
    "                seeninarow = 0;\n",
    "            cur_node = starting_node #if it is just go back to our start\n",
    "\n",
    "        \n",
    "    return edges"
   ]
  },
  {
   "cell_type": "code",
   "execution_count": 46,
   "metadata": {},
   "outputs": [],
   "source": [
    "for i in range(1,6):\n",
    "    e = randomwalk()\n",
    "    edgeHolder = pd.DataFrame(columns = [\"FromNode\", \"ToNode\"])\n",
    "    for link in e:\n",
    "        line = pd.DataFrame({\"FromNode\" : [link[0]], \"ToNode\" : [link[1]]})\n",
    "        edgeHolder = pd.concat([edgeHolder, line], ignore_index = True)\n",
    "    outputname = \"OutputRW5%\" + str(i) + \".csv\"\n",
    "    edgeHolder.to_csv(outputname, index = False)"
   ]
  },
  {
   "cell_type": "code",
   "execution_count": 22,
   "metadata": {},
   "outputs": [],
   "source": [
    "edge_set = randomwalk()"
   ]
  },
  {
   "cell_type": "code",
   "execution_count": 26,
   "metadata": {},
   "outputs": [],
   "source": [
    "edgeHolder = pd.DataFrame(columns = [\"FromNode\", \"ToNode\"])\n",
    "for link in edge_set:\n",
    "    line = pd.DataFrame({\"FromNode\" : [link[0]], \"ToNode\" : [link[1]]})\n",
    "    edgeHolder = pd.concat([edgeHolder, line], ignore_index = True)"
   ]
  },
  {
   "cell_type": "code",
   "execution_count": 25,
   "metadata": {},
   "outputs": [
    {
     "data": {
      "text/plain": [
       "59760"
      ]
     },
     "execution_count": 25,
     "metadata": {},
     "output_type": "execute_result"
    }
   ],
   "source": [
    "edgeHolder.to_csv(\"RandomWalkOutput.csv\")"
   ]
  },
  {
   "cell_type": "code",
   "execution_count": 27,
   "metadata": {},
   "outputs": [
    {
     "data": {
      "text/html": [
       "<div>\n",
       "<style scoped>\n",
       "    .dataframe tbody tr th:only-of-type {\n",
       "        vertical-align: middle;\n",
       "    }\n",
       "\n",
       "    .dataframe tbody tr th {\n",
       "        vertical-align: top;\n",
       "    }\n",
       "\n",
       "    .dataframe thead th {\n",
       "        text-align: right;\n",
       "    }\n",
       "</style>\n",
       "<table border=\"1\" class=\"dataframe\">\n",
       "  <thead>\n",
       "    <tr style=\"text-align: right;\">\n",
       "      <th></th>\n",
       "      <th>FromNode</th>\n",
       "      <th>ToNode</th>\n",
       "    </tr>\n",
       "  </thead>\n",
       "  <tbody>\n",
       "    <tr>\n",
       "      <td>0</td>\n",
       "      <td>276349</td>\n",
       "      <td>125382</td>\n",
       "    </tr>\n",
       "    <tr>\n",
       "      <td>1</td>\n",
       "      <td>33487</td>\n",
       "      <td>241883</td>\n",
       "    </tr>\n",
       "    <tr>\n",
       "      <td>2</td>\n",
       "      <td>254461</td>\n",
       "      <td>64871</td>\n",
       "    </tr>\n",
       "    <tr>\n",
       "      <td>3</td>\n",
       "      <td>112594</td>\n",
       "      <td>169368</td>\n",
       "    </tr>\n",
       "    <tr>\n",
       "      <td>4</td>\n",
       "      <td>91042</td>\n",
       "      <td>45492</td>\n",
       "    </tr>\n",
       "    <tr>\n",
       "      <td>...</td>\n",
       "      <td>...</td>\n",
       "      <td>...</td>\n",
       "    </tr>\n",
       "    <tr>\n",
       "      <td>59755</td>\n",
       "      <td>30044</td>\n",
       "      <td>166939</td>\n",
       "    </tr>\n",
       "    <tr>\n",
       "      <td>59756</td>\n",
       "      <td>19546</td>\n",
       "      <td>93329</td>\n",
       "    </tr>\n",
       "    <tr>\n",
       "      <td>59757</td>\n",
       "      <td>261118</td>\n",
       "      <td>249843</td>\n",
       "    </tr>\n",
       "    <tr>\n",
       "      <td>59758</td>\n",
       "      <td>46252</td>\n",
       "      <td>247241</td>\n",
       "    </tr>\n",
       "    <tr>\n",
       "      <td>59759</td>\n",
       "      <td>2255</td>\n",
       "      <td>202127</td>\n",
       "    </tr>\n",
       "  </tbody>\n",
       "</table>\n",
       "<p>59760 rows × 2 columns</p>\n",
       "</div>"
      ],
      "text/plain": [
       "      FromNode  ToNode\n",
       "0       276349  125382\n",
       "1        33487  241883\n",
       "2       254461   64871\n",
       "3       112594  169368\n",
       "4        91042   45492\n",
       "...        ...     ...\n",
       "59755    30044  166939\n",
       "59756    19546   93329\n",
       "59757   261118  249843\n",
       "59758    46252  247241\n",
       "59759     2255  202127\n",
       "\n",
       "[59760 rows x 2 columns]"
      ]
     },
     "execution_count": 27,
     "metadata": {},
     "output_type": "execute_result"
    }
   ],
   "source": [
    "edgeHolder"
   ]
  },
  {
   "cell_type": "code",
   "execution_count": null,
   "metadata": {},
   "outputs": [],
   "source": []
  }
 ],
 "metadata": {
  "kernelspec": {
   "display_name": "Python 3",
   "language": "python",
   "name": "python3"
  },
  "language_info": {
   "codemirror_mode": {
    "name": "ipython",
    "version": 3
   },
   "file_extension": ".py",
   "mimetype": "text/x-python",
   "name": "python",
   "nbconvert_exporter": "python",
   "pygments_lexer": "ipython3",
   "version": "3.7.3"
  }
 },
 "nbformat": 4,
 "nbformat_minor": 4
}
