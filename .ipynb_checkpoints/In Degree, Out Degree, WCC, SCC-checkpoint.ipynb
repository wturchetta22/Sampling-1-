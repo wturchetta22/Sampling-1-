{
 "cells": [
  {
   "cell_type": "markdown",
   "metadata": {},
   "source": []
  },
  {
   "cell_type": "code",
   "execution_count": 1,
   "metadata": {},
   "outputs": [],
   "source": [
    "import pandas as pd\n",
    "import networkx as nx # documentation at https://networkx.org/documentation/\n",
    "import matplotlib.pyplot as plt\n",
    "from scipy import stats\n",
    "import collections"
   ]
  },
  {
   "cell_type": "code",
   "execution_count": 2,
   "metadata": {},
   "outputs": [
    {
     "name": "stdout",
     "output_type": "stream",
     "text": [
      "(2312497, 2)\n"
     ]
    }
   ],
   "source": [
    "# read in original dataset and results from Random Edge (sampled at k=0.1)\n",
    "\n",
    "dataOriginal = pd.read_csv(\"web-Stanford.txt\", sep=\"\\t\")\n",
    "print(dataOriginal.shape)\n",
    "\n",
    "#dataRE = pd.read_csv(\"Random_Edge_Output.csv\")\n",
    "#print(dataRE.shape)"
   ]
  },
  {
   "cell_type": "code",
   "execution_count": 3,
   "metadata": {},
   "outputs": [
    {
     "data": {
      "text/html": [
       "<div>\n",
       "<style scoped>\n",
       "    .dataframe tbody tr th:only-of-type {\n",
       "        vertical-align: middle;\n",
       "    }\n",
       "\n",
       "    .dataframe tbody tr th {\n",
       "        vertical-align: top;\n",
       "    }\n",
       "\n",
       "    .dataframe thead th {\n",
       "        text-align: right;\n",
       "    }\n",
       "</style>\n",
       "<table border=\"1\" class=\"dataframe\">\n",
       "  <thead>\n",
       "    <tr style=\"text-align: right;\">\n",
       "      <th></th>\n",
       "      <th>Unnamed: 0</th>\n",
       "      <th>FromNode</th>\n",
       "      <th>ToNode</th>\n",
       "    </tr>\n",
       "  </thead>\n",
       "  <tbody>\n",
       "    <tr>\n",
       "      <th>0</th>\n",
       "      <td>1106494</td>\n",
       "      <td>38194</td>\n",
       "      <td>34573</td>\n",
       "    </tr>\n",
       "    <tr>\n",
       "      <th>1</th>\n",
       "      <td>917528</td>\n",
       "      <td>253227</td>\n",
       "      <td>183862</td>\n",
       "    </tr>\n",
       "    <tr>\n",
       "      <th>2</th>\n",
       "      <td>1735707</td>\n",
       "      <td>134268</td>\n",
       "      <td>265957</td>\n",
       "    </tr>\n",
       "    <tr>\n",
       "      <th>3</th>\n",
       "      <td>1189018</td>\n",
       "      <td>126750</td>\n",
       "      <td>43843</td>\n",
       "    </tr>\n",
       "    <tr>\n",
       "      <th>4</th>\n",
       "      <td>1951112</td>\n",
       "      <td>142185</td>\n",
       "      <td>215730</td>\n",
       "    </tr>\n",
       "    <tr>\n",
       "      <th>...</th>\n",
       "      <td>...</td>\n",
       "      <td>...</td>\n",
       "      <td>...</td>\n",
       "    </tr>\n",
       "    <tr>\n",
       "      <th>231244</th>\n",
       "      <td>1881687</td>\n",
       "      <td>226897</td>\n",
       "      <td>261616</td>\n",
       "    </tr>\n",
       "    <tr>\n",
       "      <th>231245</th>\n",
       "      <td>1456095</td>\n",
       "      <td>68300</td>\n",
       "      <td>222332</td>\n",
       "    </tr>\n",
       "    <tr>\n",
       "      <th>231246</th>\n",
       "      <td>599113</td>\n",
       "      <td>60754</td>\n",
       "      <td>52796</td>\n",
       "    </tr>\n",
       "    <tr>\n",
       "      <th>231247</th>\n",
       "      <td>310791</td>\n",
       "      <td>115140</td>\n",
       "      <td>259094</td>\n",
       "    </tr>\n",
       "    <tr>\n",
       "      <th>231248</th>\n",
       "      <td>90700</td>\n",
       "      <td>23902</td>\n",
       "      <td>59682</td>\n",
       "    </tr>\n",
       "  </tbody>\n",
       "</table>\n",
       "<p>231249 rows × 3 columns</p>\n",
       "</div>"
      ],
      "text/plain": [
       "        Unnamed: 0  FromNode  ToNode\n",
       "0          1106494     38194   34573\n",
       "1           917528    253227  183862\n",
       "2          1735707    134268  265957\n",
       "3          1189018    126750   43843\n",
       "4          1951112    142185  215730\n",
       "...            ...       ...     ...\n",
       "231244     1881687    226897  261616\n",
       "231245     1456095     68300  222332\n",
       "231246      599113     60754   52796\n",
       "231247      310791    115140  259094\n",
       "231248       90700     23902   59682\n",
       "\n",
       "[231249 rows x 3 columns]"
      ]
     },
     "execution_count": 3,
     "metadata": {},
     "output_type": "execute_result"
    }
   ],
   "source": [
    "# dataRE"
   ]
  },
  {
   "cell_type": "markdown",
   "metadata": {},
   "source": [
    "Goals, calculate D-stat for:\n",
    "\n",
    "1. in-degree,\n",
    "2. out-degree,\n",
    "3. dist of weakly-connected components (WCC),\n",
    "4. dist of strongly connected components,\n",
    "5. hop plot,\n",
    "6. hop plot on WCC,\n",
    "7. dis of clustering coeff"
   ]
  },
  {
   "cell_type": "markdown",
   "metadata": {},
   "source": [
    "### 1. in-degree\n",
    "\n",
    "count total number of connections into a given node"
   ]
  },
  {
   "cell_type": "code",
   "execution_count": 3,
   "metadata": {},
   "outputs": [],
   "source": [
    "in_degree_OG = dataOriginal.groupby(\"ToNode\").count()[\"FromNode\"]\n",
    "in_degree_RE = dataOriginal.groupby(\"ToNode\").count()[\"FromNode\"]"
   ]
  },
  {
   "cell_type": "code",
   "execution_count": 4,
   "metadata": {},
   "outputs": [
    {
     "data": {
      "text/plain": [
       "KstestResult(statistic=-0.0, pvalue=1.0)"
      ]
     },
     "execution_count": 4,
     "metadata": {},
     "output_type": "execute_result"
    }
   ],
   "source": [
    "# ks_2samp returns test statistic D, the maximum vertical distance between the 2 eCDFs of the samples as used in the paper\n",
    "# scipy ks_2samp https://docs.scipy.org/doc/scipy/reference/generated/scipy.stats.ks_2samp.html\n",
    "\n",
    "stats.ks_2samp(in_degree_OG, in_degree_RE)"
   ]
  },
  {
   "cell_type": "code",
   "execution_count": 5,
   "metadata": {},
   "outputs": [
    {
     "data": {
      "text/plain": [
       "-0.0"
      ]
     },
     "execution_count": 5,
     "metadata": {},
     "output_type": "execute_result"
    }
   ],
   "source": [
    "stats.ks_2samp(in_degree_OG, in_degree_RE)"
   ]
  },
  {
   "cell_type": "markdown",
   "metadata": {},
   "source": [
    "### 2. out-degree\n",
    "\n",
    "count total number of connections coming out of a given node"
   ]
  },
  {
   "cell_type": "code",
   "execution_count": 58,
   "metadata": {},
   "outputs": [],
   "source": [
    "out_degree_OG = dataOriginal.groupby(\"FromNode\").count()[\"ToNode\"]\n",
    "out_degree_RE = dataRE.groupby(\"FromNode\").count()[\"ToNode\"]"
   ]
  },
  {
   "cell_type": "code",
   "execution_count": 60,
   "metadata": {},
   "outputs": [
    {
     "data": {
      "text/plain": [
       "KstestResult(statistic=0.6563402611877971, pvalue=0.0)"
      ]
     },
     "execution_count": 60,
     "metadata": {},
     "output_type": "execute_result"
    }
   ],
   "source": [
    "stats.ks_2samp(out_degree_OG, out_degree_RE)"
   ]
  },
  {
   "cell_type": "markdown",
   "metadata": {},
   "source": [
    "### 3. WCC \n",
    "\n",
    "The distribution of sizes of weakly connected components (“wcc”): a set of nodes is weakly connected if for any pair of nodes u and v there exists an undirected path from u to v."
   ]
  },
  {
   "cell_type": "code",
   "execution_count": 83,
   "metadata": {},
   "outputs": [],
   "source": [
    "# create directed graphs\n",
    "\n",
    "G_Original = nx.DiGraph()\n",
    "G_Original = nx.from_pandas_edgelist(dataOriginal, \"FromNode\", \"ToNode\", create_using=nx.DiGraph())\n",
    "\n",
    "G_RE = nx.DiGraph()\n",
    "G_RE = nx.from_pandas_edgelist(dataRE, \"FromNode\", \"ToNode\", create_using=nx.DiGraph())"
   ]
  },
  {
   "cell_type": "code",
   "execution_count": 84,
   "metadata": {},
   "outputs": [],
   "source": [
    "# use WCC method from networkx https://networkx.org/documentation/stable/reference/algorithms/generated/networkx.algorithms.components.weakly_connected_components.html#networkx.algorithms.components.weakly_connected_components\n",
    "\n",
    "wcc_OG = nx.weakly_connected_components(G_Original)\n",
    "wcc_sizes_OG = collections.Counter([len(wcc) for wcc in wcc_OG]).keys()\n",
    "\n",
    "wcc_RE = nx.weakly_connected_components(G_RE)\n",
    "wcc_sizes_RE = collections.Counter([len(wcc) for wcc in wcc_RE]).keys()"
   ]
  },
  {
   "cell_type": "code",
   "execution_count": 89,
   "metadata": {},
   "outputs": [
    {
     "data": {
      "text/plain": [
       "KstestResult(statistic=0.17651612903225805, pvalue=0.02292064878272837)"
      ]
     },
     "execution_count": 89,
     "metadata": {},
     "output_type": "execute_result"
    }
   ],
   "source": [
    "stats.ks_2samp(list(wcc_sizes_OG), list(wcc_sizes_RE))"
   ]
  },
  {
   "cell_type": "markdown",
   "metadata": {},
   "source": [
    "### 4. SCC\n",
    "The distribution of sizes of strongly connected components (“scc”): a set of nodes is strongly connected, if for any pair of nodes u and v, there exists a directed path from u to v and from v to u"
   ]
  },
  {
   "cell_type": "code",
   "execution_count": 93,
   "metadata": {},
   "outputs": [],
   "source": [
    "# use SCC method from networkx https://networkx.org/documentation/stable/reference/algorithms/generated/networkx.algorithms.components.strongly_connected_components.html#networkx.algorithms.components.strongly_connected_components\n",
    "\n",
    "scc_OG = nx.strongly_connected_components(G_Original)\n",
    "scc_sizes_OG = collections.Counter([len(wcc) for wcc in scc_OG]).keys()\n",
    "\n",
    "scc_RE = nx.strongly_connected_components(G_RE)\n",
    "scc_sizes_RE = collections.Counter([len(wcc) for wcc in scc_RE]).keys()"
   ]
  },
  {
   "cell_type": "code",
   "execution_count": 92,
   "metadata": {},
   "outputs": [
    {
     "data": {
      "text/plain": [
       "KstestResult(statistic=0.96, pvalue=1.9602208745084226e-11)"
      ]
     },
     "execution_count": 92,
     "metadata": {},
     "output_type": "execute_result"
    }
   ],
   "source": [
    "stats.ks_2samp(list(scc_sizes_OG), list(scc_sizes_RE))"
   ]
  },
  {
   "cell_type": "markdown",
   "metadata": {},
   "source": [
    "### 5. hop plot\n",
    "Hop-plot: the number P(h) of reachable pairs of nodes at distance h or less; h is the number of hops"
   ]
  },
  {
   "cell_type": "markdown",
   "metadata": {},
   "source": [
    "## Code Scrapbook\n"
   ]
  },
  {
   "cell_type": "code",
   "execution_count": null,
   "metadata": {},
   "outputs": [],
   "source": [
    "# # create graph objects\n",
    "\n",
    "# G_Original = nx.DiGraph()\n",
    "# G_Original = nx.from_pandas_edgelist(dataOriginal, \"FromNode\", \"ToNode\")\n",
    "\n",
    "# G_RE = nx.DiGraph()\n",
    "# G_RE = nx.from_pandas_edgelist(dataRE, \"FromNode\", \"ToNode\")\n",
    "\n",
    "# use networkx degree attribute https://networkx.org/documentation/stable/reference/generated/networkx.classes.function.degree.html#networkx.classes.function.degree\n",
    "\n",
    "# degree_OG = [deg for node, deg in nx.degree(G_Original)] # .degree returns [node, degree]\n",
    "# degree_RE = [deg for node, deg in nx.degree(G_RE)]\n"
   ]
  },
  {
   "cell_type": "code",
   "execution_count": null,
   "metadata": {},
   "outputs": [],
   "source": [
    "# # plot WCC\n",
    "# # https://www.programcreek.com/python/example/120125/networkx.weakly_connected_components\n",
    "\n",
    "# size_seq = sorted(wcc_sizes_RE.keys())\n",
    "# size_hist = [wcc_sizes_RE[x] for x in size_seq]\n",
    "\n",
    "# plt.figure(figsize=(16, 12))\n",
    "# plt.clf()\n",
    "# plt.loglog(size_seq, size_hist, 'ro-')\n",
    "# plt.title(\"WCC Size Distribution\")\n",
    "# plt.xlabel(\"Size\")\n",
    "# plt.ylabel(\"Number of WCCs\")\n",
    "# plt.show()"
   ]
  }
 ],
 "metadata": {
  "kernelspec": {
   "display_name": "Python 3",
   "language": "python",
   "name": "python3"
  },
  "language_info": {
   "codemirror_mode": {
    "name": "ipython",
    "version": 3
   },
   "file_extension": ".py",
   "mimetype": "text/x-python",
   "name": "python",
   "nbconvert_exporter": "python",
   "pygments_lexer": "ipython3",
   "version": "3.8.5"
  }
 },
 "nbformat": 4,
 "nbformat_minor": 5
}
